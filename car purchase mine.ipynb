{
 "cells": [
  {
   "cell_type": "code",
   "execution_count": 1,
   "metadata": {},
   "outputs": [],
   "source": [
    "import pandas as pd\n",
    "import numpy as np\n",
    "import matplotlib.pyplot as plt\n",
    "import seaborn as sns"
   ]
  },
  {
   "cell_type": "code",
   "execution_count": 2,
   "metadata": {},
   "outputs": [],
   "source": [
    "car=pd.read_csv(\"Car_Purchasing_Data.csv\",encoding=\"ISO-8859-1\")"
   ]
  },
  {
   "cell_type": "code",
   "execution_count": 3,
   "metadata": {},
   "outputs": [
    {
     "data": {
      "text/html": [
       "<div>\n",
       "<style scoped>\n",
       "    .dataframe tbody tr th:only-of-type {\n",
       "        vertical-align: middle;\n",
       "    }\n",
       "\n",
       "    .dataframe tbody tr th {\n",
       "        vertical-align: top;\n",
       "    }\n",
       "\n",
       "    .dataframe thead th {\n",
       "        text-align: right;\n",
       "    }\n",
       "</style>\n",
       "<table border=\"1\" class=\"dataframe\">\n",
       "  <thead>\n",
       "    <tr style=\"text-align: right;\">\n",
       "      <th></th>\n",
       "      <th>Customer Name</th>\n",
       "      <th>Customer e-mail</th>\n",
       "      <th>Country</th>\n",
       "      <th>Gender</th>\n",
       "      <th>Age</th>\n",
       "      <th>Annual Salary</th>\n",
       "      <th>Credit Card Debt</th>\n",
       "      <th>Net Worth</th>\n",
       "      <th>Car Purchase Amount</th>\n",
       "    </tr>\n",
       "  </thead>\n",
       "  <tbody>\n",
       "    <tr>\n",
       "      <th>0</th>\n",
       "      <td>Martina Avila</td>\n",
       "      <td>cubilia.Curae.Phasellus@quisaccumsanconvallis.edu</td>\n",
       "      <td>Bulgaria</td>\n",
       "      <td>0</td>\n",
       "      <td>41.851720</td>\n",
       "      <td>62812.09301</td>\n",
       "      <td>11609.380910</td>\n",
       "      <td>238961.2505</td>\n",
       "      <td>35321.45877</td>\n",
       "    </tr>\n",
       "    <tr>\n",
       "      <th>1</th>\n",
       "      <td>Harlan Barnes</td>\n",
       "      <td>eu.dolor@diam.co.uk</td>\n",
       "      <td>Belize</td>\n",
       "      <td>0</td>\n",
       "      <td>40.870623</td>\n",
       "      <td>66646.89292</td>\n",
       "      <td>9572.957136</td>\n",
       "      <td>530973.9078</td>\n",
       "      <td>45115.52566</td>\n",
       "    </tr>\n",
       "    <tr>\n",
       "      <th>2</th>\n",
       "      <td>Naomi Rodriquez</td>\n",
       "      <td>vulputate.mauris.sagittis@ametconsectetueradip...</td>\n",
       "      <td>Algeria</td>\n",
       "      <td>1</td>\n",
       "      <td>43.152897</td>\n",
       "      <td>53798.55112</td>\n",
       "      <td>11160.355060</td>\n",
       "      <td>638467.1773</td>\n",
       "      <td>42925.70921</td>\n",
       "    </tr>\n",
       "  </tbody>\n",
       "</table>\n",
       "</div>"
      ],
      "text/plain": [
       "     Customer Name                                    Customer e-mail  \\\n",
       "0    Martina Avila  cubilia.Curae.Phasellus@quisaccumsanconvallis.edu   \n",
       "1    Harlan Barnes                                eu.dolor@diam.co.uk   \n",
       "2  Naomi Rodriquez  vulputate.mauris.sagittis@ametconsectetueradip...   \n",
       "\n",
       "    Country  Gender        Age  Annual Salary  Credit Card Debt    Net Worth  \\\n",
       "0  Bulgaria       0  41.851720    62812.09301      11609.380910  238961.2505   \n",
       "1    Belize       0  40.870623    66646.89292       9572.957136  530973.9078   \n",
       "2   Algeria       1  43.152897    53798.55112      11160.355060  638467.1773   \n",
       "\n",
       "   Car Purchase Amount  \n",
       "0          35321.45877  \n",
       "1          45115.52566  \n",
       "2          42925.70921  "
      ]
     },
     "execution_count": 3,
     "metadata": {},
     "output_type": "execute_result"
    }
   ],
   "source": [
    "car.head(3)"
   ]
  },
  {
   "cell_type": "code",
   "execution_count": 4,
   "metadata": {},
   "outputs": [
    {
     "data": {
      "text/plain": [
       "(500, 9)"
      ]
     },
     "execution_count": 4,
     "metadata": {},
     "output_type": "execute_result"
    }
   ],
   "source": [
    "car.shape"
   ]
  },
  {
   "cell_type": "code",
   "execution_count": 5,
   "metadata": {},
   "outputs": [
    {
     "data": {
      "text/plain": [
       "Customer Name          0\n",
       "Customer e-mail        0\n",
       "Country                0\n",
       "Gender                 0\n",
       "Age                    0\n",
       "Annual Salary          0\n",
       "Credit Card Debt       0\n",
       "Net Worth              0\n",
       "Car Purchase Amount    0\n",
       "dtype: int64"
      ]
     },
     "execution_count": 5,
     "metadata": {},
     "output_type": "execute_result"
    }
   ],
   "source": [
    "car.isnull().sum()"
   ]
  },
  {
   "cell_type": "code",
   "execution_count": 6,
   "metadata": {},
   "outputs": [
    {
     "data": {
      "text/plain": [
       "211"
      ]
     },
     "execution_count": 6,
     "metadata": {},
     "output_type": "execute_result"
    }
   ],
   "source": [
    "car['Country'].value_counts()\n",
    "len(car['Country'].unique())"
   ]
  },
  {
   "cell_type": "code",
   "execution_count": 7,
   "metadata": {},
   "outputs": [],
   "source": [
    "car.drop(['Customer Name','Customer e-mail','Country'],axis=1,inplace=True)"
   ]
  },
  {
   "cell_type": "code",
   "execution_count": 8,
   "metadata": {},
   "outputs": [
    {
     "data": {
      "text/html": [
       "<div>\n",
       "<style scoped>\n",
       "    .dataframe tbody tr th:only-of-type {\n",
       "        vertical-align: middle;\n",
       "    }\n",
       "\n",
       "    .dataframe tbody tr th {\n",
       "        vertical-align: top;\n",
       "    }\n",
       "\n",
       "    .dataframe thead th {\n",
       "        text-align: right;\n",
       "    }\n",
       "</style>\n",
       "<table border=\"1\" class=\"dataframe\">\n",
       "  <thead>\n",
       "    <tr style=\"text-align: right;\">\n",
       "      <th></th>\n",
       "      <th>Gender</th>\n",
       "      <th>Age</th>\n",
       "      <th>Annual Salary</th>\n",
       "      <th>Credit Card Debt</th>\n",
       "      <th>Net Worth</th>\n",
       "      <th>Car Purchase Amount</th>\n",
       "    </tr>\n",
       "  </thead>\n",
       "  <tbody>\n",
       "    <tr>\n",
       "      <th>0</th>\n",
       "      <td>0</td>\n",
       "      <td>41.851720</td>\n",
       "      <td>62812.09301</td>\n",
       "      <td>11609.380910</td>\n",
       "      <td>238961.2505</td>\n",
       "      <td>35321.45877</td>\n",
       "    </tr>\n",
       "    <tr>\n",
       "      <th>1</th>\n",
       "      <td>0</td>\n",
       "      <td>40.870623</td>\n",
       "      <td>66646.89292</td>\n",
       "      <td>9572.957136</td>\n",
       "      <td>530973.9078</td>\n",
       "      <td>45115.52566</td>\n",
       "    </tr>\n",
       "    <tr>\n",
       "      <th>2</th>\n",
       "      <td>1</td>\n",
       "      <td>43.152897</td>\n",
       "      <td>53798.55112</td>\n",
       "      <td>11160.355060</td>\n",
       "      <td>638467.1773</td>\n",
       "      <td>42925.70921</td>\n",
       "    </tr>\n",
       "  </tbody>\n",
       "</table>\n",
       "</div>"
      ],
      "text/plain": [
       "   Gender        Age  Annual Salary  Credit Card Debt    Net Worth  \\\n",
       "0       0  41.851720    62812.09301      11609.380910  238961.2505   \n",
       "1       0  40.870623    66646.89292       9572.957136  530973.9078   \n",
       "2       1  43.152897    53798.55112      11160.355060  638467.1773   \n",
       "\n",
       "   Car Purchase Amount  \n",
       "0          35321.45877  \n",
       "1          45115.52566  \n",
       "2          42925.70921  "
      ]
     },
     "execution_count": 8,
     "metadata": {},
     "output_type": "execute_result"
    }
   ],
   "source": [
    "car.head(3)"
   ]
  },
  {
   "cell_type": "code",
   "execution_count": null,
   "metadata": {},
   "outputs": [],
   "source": [
    "sns.pairplot(car)"
   ]
  },
  {
   "cell_type": "code",
   "execution_count": null,
   "metadata": {},
   "outputs": [],
   "source": [
    "x=car.drop(\"Car Purchase Amount\",axis=1)\n",
    "y=car['Car Purchase Amount']"
   ]
  },
  {
   "cell_type": "code",
   "execution_count": null,
   "metadata": {},
   "outputs": [],
   "source": [
    "from sklearn.preprocessing import MinMaxScaler\n",
    "scaler=MinMaxScaler()\n",
    "scaled_x=scaler.fit_transform(x)\n",
    "scaled_y=scaler.fit_transform(y.values.reshape(-1,1))"
   ]
  },
  {
   "cell_type": "code",
   "execution_count": null,
   "metadata": {},
   "outputs": [],
   "source": [
    "scaled_x.shape,scaled_y.shape"
   ]
  },
  {
   "cell_type": "code",
   "execution_count": null,
   "metadata": {},
   "outputs": [],
   "source": [
    "from sklearn.model_selection import train_test_split\n",
    "x_train, x_test, y_train, y_test = train_test_split(scaled_x,scaled_y, test_size=0.2, random_state=42)"
   ]
  },
  {
   "cell_type": "code",
   "execution_count": null,
   "metadata": {},
   "outputs": [],
   "source": [
    "from tensorflow import keras"
   ]
  },
  {
   "cell_type": "code",
   "execution_count": null,
   "metadata": {},
   "outputs": [],
   "source": [
    "from keras.models import Sequential\n",
    "from keras.layers import Dense,Dropout\n",
    "from keras.optimizers import Adam"
   ]
  },
  {
   "cell_type": "code",
   "execution_count": null,
   "metadata": {},
   "outputs": [],
   "source": [
    "model=Sequential()\n"
   ]
  },
  {
   "cell_type": "code",
   "execution_count": null,
   "metadata": {},
   "outputs": [],
   "source": [
    "model.add(Dense(25,input_dim=5,activation='relu'))\n",
    "# model.add(Dropout(0.8))\n",
    "model.add(Dense(25,activation='relu'))\n",
    "# model.add(Dropout(0.8))\n",
    "model.add(Dense(1,activation='linear'))"
   ]
  },
  {
   "cell_type": "code",
   "execution_count": null,
   "metadata": {},
   "outputs": [],
   "source": [
    "model.compile(optimizer='Adam',loss='mean_squared_error')"
   ]
  },
  {
   "cell_type": "code",
   "execution_count": null,
   "metadata": {},
   "outputs": [],
   "source": [
    "epoch=model.fit(x_train,y_train,epochs=50,batch_size=20,validation_split=0.2,verbose=1)"
   ]
  },
  {
   "cell_type": "code",
   "execution_count": null,
   "metadata": {},
   "outputs": [],
   "source": [
    "print(epoch.history.keys())"
   ]
  },
  {
   "cell_type": "code",
   "execution_count": null,
   "metadata": {},
   "outputs": [],
   "source": [
    "plt.plot(epoch.history['loss'])\n",
    "plt.plot(epoch.history['val_loss'])\n",
    "plt.title(\"loss comparison\")\n",
    "plt.xlabel(\"epoch\")\n",
    "plt.ylabel(\"loss\")\n",
    "plt.legend(['loss','validation_loss'])"
   ]
  },
  {
   "cell_type": "code",
   "execution_count": null,
   "metadata": {},
   "outputs": [],
   "source": [
    "pred=model.predict(x_test, batch_size=20)"
   ]
  },
  {
   "cell_type": "code",
   "execution_count": null,
   "metadata": {},
   "outputs": [],
   "source": [
    "pred[40]"
   ]
  },
  {
   "cell_type": "code",
   "execution_count": null,
   "metadata": {},
   "outputs": [],
   "source": [
    "y_test[40]"
   ]
  },
  {
   "cell_type": "code",
   "execution_count": null,
   "metadata": {},
   "outputs": [],
   "source": [
    "from sklearn.metrics import mean_squared_error,r2_score\n",
    "mean_squared_error(y_test,pred)"
   ]
  },
  {
   "cell_type": "code",
   "execution_count": null,
   "metadata": {},
   "outputs": [],
   "source": [
    "r2_score(y_test,pred)"
   ]
  },
  {
   "cell_type": "code",
   "execution_count": null,
   "metadata": {},
   "outputs": [],
   "source": []
  }
 ],
 "metadata": {
  "kernelspec": {
   "display_name": "Python 3",
   "language": "python",
   "name": "python3"
  },
  "language_info": {
   "codemirror_mode": {
    "name": "ipython",
    "version": 3
   },
   "file_extension": ".py",
   "mimetype": "text/x-python",
   "name": "python",
   "nbconvert_exporter": "python",
   "pygments_lexer": "ipython3",
   "version": "3.7.5"
  }
 },
 "nbformat": 4,
 "nbformat_minor": 4
}
